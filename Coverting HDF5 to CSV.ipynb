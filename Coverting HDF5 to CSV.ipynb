{
 "cells": [
  {
   "cell_type": "markdown",
   "metadata": {},
   "source": [
    "# Converting HDF5 to CSV\n",
    "\n",
    "While HDF5 is a format used for storing data values, CSV files are very easy to read and understand. Further, you can directly import them in `pandas` and use them as needed.\n",
    "\n",
    "In this notebook, we'll explore the **January, 2020 GPM data**, identify the values we want to record and create a CSV file."
   ]
  },
  {
   "cell_type": "markdown",
   "metadata": {},
   "source": [
    "## Load libraries\n",
    "\n",
    "We need the `h5py` package to read the HDF5 file. Further, we'll use `numpy` to work with arrays and `pandas` package to create a final dataset and save it to a CSV file."
   ]
  },
  {
   "cell_type": "code",
   "execution_count": 1,
   "metadata": {},
   "outputs": [],
   "source": [
    "import h5py\n",
    "import numpy as np\n",
    "import pandas as pd"
   ]
  },
  {
   "cell_type": "markdown",
   "metadata": {},
   "source": [
    "## Load dataset\n",
    "\n",
    "We have one data file inside **/data** directory. I'll read the same using the `h5py` package."
   ]
  },
  {
   "cell_type": "code",
   "execution_count": 2,
   "metadata": {},
   "outputs": [],
   "source": [
    "dataset = h5py.File('data/gpm_jan_2020.HDF5', 'r')"
   ]
  },
  {
   "cell_type": "markdown",
   "metadata": {},
   "source": [
    "## Explore dataset\n",
    "\n",
    "Once the dataset is loaded in, it acts like a Python dictionary. So, we'll start by looking at the various key value pairs and based on them, identify all the values we want to keep."
   ]
  },
  {
   "cell_type": "code",
   "execution_count": 3,
   "metadata": {},
   "outputs": [
    {
     "data": {
      "text/plain": [
       "<KeysViewHDF5 ['Grid']>"
      ]
     },
     "execution_count": 3,
     "metadata": {},
     "output_type": "execute_result"
    }
   ],
   "source": [
    "dataset.keys()"
   ]
  },
  {
   "cell_type": "markdown",
   "metadata": {},
   "source": [
    "It appears the HDF5 file has a **Grid** inside it. So, let's see the key value pairs inside it."
   ]
  },
  {
   "cell_type": "code",
   "execution_count": 4,
   "metadata": {},
   "outputs": [
    {
     "data": {
      "text/plain": [
       "<KeysViewHDF5 ['nv', 'lonv', 'latv', 'time', 'lon', 'lat', 'time_bnds', 'lon_bnds', 'lat_bnds', 'precipitation', 'randomError', 'gaugeRelativeWeighting', 'probabilityLiquidPrecipitation', 'precipitationQualityIndex']>"
      ]
     },
     "execution_count": 4,
     "metadata": {},
     "output_type": "execute_result"
    }
   ],
   "source": [
    "grid = dataset['Grid']\n",
    "grid.keys()"
   ]
  },
  {
   "cell_type": "markdown",
   "metadata": {},
   "source": [
    "We observe that there are a lot of values in this data file. Here, I'm most interested in the `lon`, `lat` and `precipitation` values. Let's take a brief look at them."
   ]
  },
  {
   "cell_type": "markdown",
   "metadata": {},
   "source": [
    "### Longitude"
   ]
  },
  {
   "cell_type": "code",
   "execution_count": 5,
   "metadata": {},
   "outputs": [
    {
     "name": "stdout",
     "output_type": "stream",
     "text": [
      "Longitude data: <HDF5 dataset \"lon\": shape (3600,), type \"<f4\">\n",
      "Longitude data attributes: ['DimensionNames', 'Units', 'units', 'standard_name', 'LongName', 'bounds', 'axis', 'CLASS', 'REFERENCE_LIST']\n"
     ]
    }
   ],
   "source": [
    "print(\"Longitude data: {}\".format(grid['lon']))\n",
    "print(\"Longitude data attributes: {}\".format(list(grid['lon'].attrs)))"
   ]
  },
  {
   "cell_type": "markdown",
   "metadata": {},
   "source": [
    "The shape indicates that `longitude` has 3600 values. From the attributes, I'll yse the `standard_name` and the `units`."
   ]
  },
  {
   "cell_type": "code",
   "execution_count": 6,
   "metadata": {},
   "outputs": [
    {
     "name": "stdout",
     "output_type": "stream",
     "text": [
      "Name: longitude\n",
      "Unit: degrees_east\n"
     ]
    }
   ],
   "source": [
    "print(\"Name: {}\".format(grid['lon'].attrs['standard_name'].decode()))\n",
    "print(\"Unit: {}\".format(grid['lon'].attrs['units'].decode()))"
   ]
  },
  {
   "cell_type": "markdown",
   "metadata": {},
   "source": [
    "### Latitude"
   ]
  },
  {
   "cell_type": "code",
   "execution_count": 7,
   "metadata": {},
   "outputs": [
    {
     "name": "stdout",
     "output_type": "stream",
     "text": [
      "Latitude data: <HDF5 dataset \"lat\": shape (1800,), type \"<f4\">\n",
      "Latitude data attributes: ['DimensionNames', 'Units', 'units', 'standard_name', 'LongName', 'bounds', 'axis', 'CLASS', 'REFERENCE_LIST']\n"
     ]
    }
   ],
   "source": [
    "print(\"Latitude data: {}\".format(grid['lat']))\n",
    "print(\"Latitude data attributes: {}\".format(list(grid['lat'].attrs)))"
   ]
  },
  {
   "cell_type": "markdown",
   "metadata": {},
   "source": [
    "The shape indicates that `latitude` has 1800 values. From the attributes, I'll yse the `standard_name` and the `units`."
   ]
  },
  {
   "cell_type": "code",
   "execution_count": 8,
   "metadata": {},
   "outputs": [
    {
     "name": "stdout",
     "output_type": "stream",
     "text": [
      "Name: latitude\n",
      "Unit: degrees_north\n"
     ]
    }
   ],
   "source": [
    "print(\"Name: {}\".format(grid['lat'].attrs['standard_name'].decode()))\n",
    "print(\"Unit: {}\".format(grid['lat'].attrs['units'].decode()))"
   ]
  },
  {
   "cell_type": "markdown",
   "metadata": {},
   "source": [
    "### Precipitation"
   ]
  },
  {
   "cell_type": "code",
   "execution_count": 9,
   "metadata": {},
   "outputs": [
    {
     "name": "stdout",
     "output_type": "stream",
     "text": [
      "Precipitation data: <HDF5 dataset \"precipitation\": shape (1, 3600, 1800), type \"<f4\">\n",
      "Precipitation data attributes: ['DimensionNames', 'Units', 'units', 'coordinates', '_FillValue', 'CodeMissingValue', 'DIMENSION_LIST']\n"
     ]
    }
   ],
   "source": [
    "print(\"Precipitation data: {}\".format(grid['precipitation']))\n",
    "print(\"Precipitation data attributes: {}\".format(list(grid['precipitation'].attrs)))"
   ]
  },
  {
   "cell_type": "markdown",
   "metadata": {},
   "source": [
    "The shape shows that it is a 3-dimensional array. The values order 3600-1800 implies that we have 6480000 (3600\\*1800) precipitation values. For each combination of longitude and latitude, we get a value of precipitation. I'll also use the `units` attrbiute here."
   ]
  },
  {
   "cell_type": "code",
   "execution_count": 10,
   "metadata": {},
   "outputs": [
    {
     "name": "stdout",
     "output_type": "stream",
     "text": [
      "Unit: mm/hr\n"
     ]
    }
   ],
   "source": [
    "print(\"Unit: {}\".format(grid['precipitation'].attrs['units'].decode()))"
   ]
  },
  {
   "cell_type": "markdown",
   "metadata": {},
   "source": [
    "## Create dataframe\n",
    "\n",
    "Now, that we're sure what values we want, let's start constructing the dataset."
   ]
  },
  {
   "cell_type": "markdown",
   "metadata": {},
   "source": [
    "We'll use the `flatten()` function in `numpy` to create the complete list of precipitation values. For each longitude value, we'll have all latitude values. So, I'll create the list of longitude values where each value is repeated 1800 times using `repeat()`. For latitude values, I'll have to repeat the complete original list 3600 times corresponding to each value longitude value."
   ]
  },
  {
   "cell_type": "code",
   "execution_count": 11,
   "metadata": {},
   "outputs": [
    {
     "data": {
      "text/html": [
       "<div>\n",
       "<style scoped>\n",
       "    .dataframe tbody tr th:only-of-type {\n",
       "        vertical-align: middle;\n",
       "    }\n",
       "\n",
       "    .dataframe tbody tr th {\n",
       "        vertical-align: top;\n",
       "    }\n",
       "\n",
       "    .dataframe thead th {\n",
       "        text-align: right;\n",
       "    }\n",
       "</style>\n",
       "<table border=\"1\" class=\"dataframe\">\n",
       "  <thead>\n",
       "    <tr style=\"text-align: right;\">\n",
       "      <th></th>\n",
       "      <th>longitude (degrees_east)</th>\n",
       "      <th>latitude (degrees_north)</th>\n",
       "      <th>Precipitation (mm/hr)</th>\n",
       "    </tr>\n",
       "  </thead>\n",
       "  <tbody>\n",
       "    <tr>\n",
       "      <th>0</th>\n",
       "      <td>-179.949997</td>\n",
       "      <td>-89.949997</td>\n",
       "      <td>-9999.900391</td>\n",
       "    </tr>\n",
       "    <tr>\n",
       "      <th>1</th>\n",
       "      <td>-179.949997</td>\n",
       "      <td>-89.849998</td>\n",
       "      <td>-9999.900391</td>\n",
       "    </tr>\n",
       "    <tr>\n",
       "      <th>2</th>\n",
       "      <td>-179.949997</td>\n",
       "      <td>-89.750000</td>\n",
       "      <td>-9999.900391</td>\n",
       "    </tr>\n",
       "    <tr>\n",
       "      <th>3</th>\n",
       "      <td>-179.949997</td>\n",
       "      <td>-89.650002</td>\n",
       "      <td>-9999.900391</td>\n",
       "    </tr>\n",
       "    <tr>\n",
       "      <th>4</th>\n",
       "      <td>-179.949997</td>\n",
       "      <td>-89.550003</td>\n",
       "      <td>-9999.900391</td>\n",
       "    </tr>\n",
       "  </tbody>\n",
       "</table>\n",
       "</div>"
      ],
      "text/plain": [
       "   longitude (degrees_east)  latitude (degrees_north)  Precipitation (mm/hr)\n",
       "0               -179.949997                -89.949997           -9999.900391\n",
       "1               -179.949997                -89.849998           -9999.900391\n",
       "2               -179.949997                -89.750000           -9999.900391\n",
       "3               -179.949997                -89.650002           -9999.900391\n",
       "4               -179.949997                -89.550003           -9999.900391"
      ]
     },
     "execution_count": 11,
     "metadata": {},
     "output_type": "execute_result"
    }
   ],
   "source": [
    "longitude_values = np.repeat(list(grid['lon']), 1800)\n",
    "latitude_values = list(grid['lat'])*3600\n",
    "precipitation_values = np.array(list(grid['precipitation'])).flatten()\n",
    "\n",
    "dataset = pd.DataFrame({\"lon\": longitude_values, \"lat\": latitude_values, \"precipitation\": precipitation_values})\n",
    "dataset.columns = [grid['lon'].attrs['standard_name'].decode() + \" (\" + grid['lon'].attrs['units'].decode() + \")\",\n",
    "                   grid['lat'].attrs['standard_name'].decode() + \" (\" + grid['lat'].attrs['units'].decode() + \")\",\n",
    "                   \"Precipitation (\" + grid['precipitation'].attrs['units'].decode() + \")\",]\n",
    "dataset.head()"
   ]
  },
  {
   "cell_type": "markdown",
   "metadata": {},
   "source": [
    "Note that the value `-9999.900391` in precipitation means that the value is missing, so I will change it to zero."
   ]
  },
  {
   "cell_type": "code",
   "execution_count": 12,
   "metadata": {},
   "outputs": [],
   "source": [
    "dataset['Precipitation (mm/hr)'] = dataset['Precipitation (mm/hr)'].mask(\n",
    "                                    dataset['Precipitation (mm/hr)'] == -9999.900391, 0)"
   ]
  },
  {
   "cell_type": "markdown",
   "metadata": {},
   "source": [
    "I'll save the resultant dataframe to a CSV file and save it inside the **/data** folder."
   ]
  },
  {
   "cell_type": "code",
   "execution_count": 13,
   "metadata": {},
   "outputs": [],
   "source": [
    "dataset.to_csv(\"data/precipitation_jan_2020.csv\", index = False)"
   ]
  },
  {
   "cell_type": "markdown",
   "metadata": {},
   "source": [
    "# Conclusion\n",
    "\n",
    "In this notebook, we used a dataset downloaded from NASA, understood its various elements and created a CSV file from it."
   ]
  }
 ],
 "metadata": {
  "kernelspec": {
   "display_name": "Python 3",
   "language": "python",
   "name": "python3"
  },
  "language_info": {
   "codemirror_mode": {
    "name": "ipython",
    "version": 3
   },
   "file_extension": ".py",
   "mimetype": "text/x-python",
   "name": "python",
   "nbconvert_exporter": "python",
   "pygments_lexer": "ipython3",
   "version": "3.8.5"
  }
 },
 "nbformat": 4,
 "nbformat_minor": 2
}
