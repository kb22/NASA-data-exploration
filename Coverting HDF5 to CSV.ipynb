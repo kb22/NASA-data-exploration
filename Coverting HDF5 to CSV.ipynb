{
 "cells": [
  {
   "cell_type": "markdown",
   "metadata": {},
   "source": [
    "# Converting HDF5 to CSV\n",
    "\n",
    "While HDF5 is a format used for storing data values, CSV files are very easy to read and understand. Further, you can directly import them in `pandas` and use them as needed.\n",
    "\n",
    "In this notebook, we'll explore the **January, 2020 GPM data**, identify the values we want to record and create a CSV file."
   ]
  },
  {
   "cell_type": "markdown",
   "metadata": {},
   "source": [
    "## Load libraries\n",
    "\n",
    "We need the `h5py` package to read the HDF5 file. Further, we'll use the `pandas` package to create a final dataset and save it to a CSV file."
   ]
  },
  {
   "cell_type": "code",
   "execution_count": 1,
   "metadata": {},
   "outputs": [],
   "source": [
    "import h5py\n",
    "import pandas as pd"
   ]
  },
  {
   "cell_type": "markdown",
   "metadata": {},
   "source": [
    "## Load dataset\n",
    "\n",
    "We have one data file inside **/data** directory. I'll read the same using the `h5py` package."
   ]
  },
  {
   "cell_type": "code",
   "execution_count": 2,
   "metadata": {},
   "outputs": [],
   "source": [
    "dataset = h5py.File('data/gpm_jan_2020.HDF5', 'r')"
   ]
  },
  {
   "cell_type": "markdown",
   "metadata": {},
   "source": [
    "## Explore dataset\n",
    "\n",
    "Once the dataset is loaded in, it acts like a Python dictionary. So, we'll start by looking at the various key value pairs and based on them, identify all the values we want to keep."
   ]
  },
  {
   "cell_type": "code",
   "execution_count": 3,
   "metadata": {},
   "outputs": [
    {
     "data": {
      "text/plain": [
       "<KeysViewHDF5 ['Grid']>"
      ]
     },
     "execution_count": 3,
     "metadata": {},
     "output_type": "execute_result"
    }
   ],
   "source": [
    "dataset.keys()"
   ]
  },
  {
   "cell_type": "markdown",
   "metadata": {},
   "source": [
    "It appears the HDF5 file has a **Grid** inside it. So, let's see the key value pairs inside it."
   ]
  },
  {
   "cell_type": "code",
   "execution_count": 4,
   "metadata": {},
   "outputs": [
    {
     "data": {
      "text/plain": [
       "<KeysViewHDF5 ['nv', 'lonv', 'latv', 'time', 'lon', 'lat', 'time_bnds', 'lon_bnds', 'lat_bnds', 'precipitation', 'randomError', 'gaugeRelativeWeighting', 'probabilityLiquidPrecipitation', 'precipitationQualityIndex']>"
      ]
     },
     "execution_count": 4,
     "metadata": {},
     "output_type": "execute_result"
    }
   ],
   "source": [
    "grid = dataset['Grid']\n",
    "grid.keys()"
   ]
  },
  {
   "cell_type": "markdown",
   "metadata": {},
   "source": [
    "We observe that there are a lot of values in this data file. Here, I'm most interested in the `lon`, `lat` and `precipitation` values. Let's take a brief look at them."
   ]
  },
  {
   "cell_type": "markdown",
   "metadata": {},
   "source": [
    "### Longitude"
   ]
  },
  {
   "cell_type": "code",
   "execution_count": 5,
   "metadata": {},
   "outputs": [
    {
     "name": "stdout",
     "output_type": "stream",
     "text": [
      "Longitude data: <HDF5 dataset \"lon\": shape (3600,), type \"<f4\">\n",
      "Longitude data attributes: ['DimensionNames', 'Units', 'units', 'standard_name', 'LongName', 'bounds', 'axis', 'CLASS', 'REFERENCE_LIST']\n"
     ]
    }
   ],
   "source": [
    "print(\"Longitude data: {}\".format(grid['lon']))\n",
    "print(\"Longitude data attributes: {}\".format(list(grid['lon'].attrs)))"
   ]
  },
  {
   "cell_type": "markdown",
   "metadata": {},
   "source": [
    "The shape indicates that `longitude` has 3600 values. From the attributes, I'll yse the `standard_name` and the `units`."
   ]
  },
  {
   "cell_type": "code",
   "execution_count": 15,
   "metadata": {},
   "outputs": [
    {
     "name": "stdout",
     "output_type": "stream",
     "text": [
      "Name: longitude\n",
      "Unit: degrees_east\n"
     ]
    }
   ],
   "source": [
    "print(\"Name: {}\".format(grid['lon'].attrs['standard_name'].decode()))\n",
    "print(\"Unit: {}\".format(grid['lon'].attrs['units'].decode()))"
   ]
  },
  {
   "cell_type": "markdown",
   "metadata": {},
   "source": [
    "### Latitude"
   ]
  },
  {
   "cell_type": "code",
   "execution_count": 16,
   "metadata": {},
   "outputs": [
    {
     "name": "stdout",
     "output_type": "stream",
     "text": [
      "Latitude data: <HDF5 dataset \"lat\": shape (1800,), type \"<f4\">\n",
      "Latitude data attributes: ['DimensionNames', 'Units', 'units', 'standard_name', 'LongName', 'bounds', 'axis', 'CLASS', 'REFERENCE_LIST']\n"
     ]
    }
   ],
   "source": [
    "print(\"Latitude data: {}\".format(grid['lat']))\n",
    "print(\"Latitude data attributes: {}\".format(list(grid['lat'].attrs)))"
   ]
  },
  {
   "cell_type": "markdown",
   "metadata": {},
   "source": [
    "The shape indicates that `latitude` has 1800 values. From the attributes, I'll yse the `standard_name` and the `units`."
   ]
  },
  {
   "cell_type": "code",
   "execution_count": 17,
   "metadata": {},
   "outputs": [
    {
     "name": "stdout",
     "output_type": "stream",
     "text": [
      "Name: latitude\n",
      "Unit: degrees_north\n"
     ]
    }
   ],
   "source": [
    "print(\"Name: {}\".format(grid['lat'].attrs['standard_name'].decode()))\n",
    "print(\"Unit: {}\".format(grid['lat'].attrs['units'].decode()))"
   ]
  },
  {
   "cell_type": "markdown",
   "metadata": {},
   "source": [
    "### Precipitation"
   ]
  },
  {
   "cell_type": "code",
   "execution_count": 18,
   "metadata": {},
   "outputs": [
    {
     "name": "stdout",
     "output_type": "stream",
     "text": [
      "Precipitation data: <HDF5 dataset \"precipitation\": shape (1, 3600, 1800), type \"<f4\">\n",
      "Precipitation data attributes: ['DimensionNames', 'Units', 'units', 'coordinates', '_FillValue', 'CodeMissingValue', 'DIMENSION_LIST']\n"
     ]
    }
   ],
   "source": [
    "print(\"Precipitation data: {}\".format(grid['precipitation']))\n",
    "print(\"Precipitation data attributes: {}\".format(list(grid['precipitation'].attrs)))"
   ]
  },
  {
   "cell_type": "markdown",
   "metadata": {},
   "source": [
    "The shape shows that it is a 3-dimensional array. The values order 3600-1800 implies that we have 6480000 (3600\\*1800) precipitation values. For each combination of longitude and latitude, we get a value of precipitation. I'll also use the `units` attrbiute here."
   ]
  },
  {
   "cell_type": "code",
   "execution_count": 20,
   "metadata": {},
   "outputs": [
    {
     "name": "stdout",
     "output_type": "stream",
     "text": [
      "Unit: mm/hr\n"
     ]
    }
   ],
   "source": [
    "print(\"Unit: {}\".format(grid['precipitation'].attrs['units'].decode()))"
   ]
  },
  {
   "cell_type": "code",
   "execution_count": null,
   "metadata": {},
   "outputs": [],
   "source": []
  }
 ],
 "metadata": {
  "kernelspec": {
   "display_name": "Python 3",
   "language": "python",
   "name": "python3"
  },
  "language_info": {
   "codemirror_mode": {
    "name": "ipython",
    "version": 3
   },
   "file_extension": ".py",
   "mimetype": "text/x-python",
   "name": "python",
   "nbconvert_exporter": "python",
   "pygments_lexer": "ipython3",
   "version": "3.8.5"
  }
 },
 "nbformat": 4,
 "nbformat_minor": 2
}
